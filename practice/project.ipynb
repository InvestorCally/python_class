{
 "cells": [
  {
   "cell_type": "code",
   "execution_count": 7,
   "metadata": {},
   "outputs": [],
   "source": [
    "classlist = {\n",
    "    'Chisom': 50,\n",
    "    'Peter': 80,\n",
    "    'Angel': 25,\n",
    "    'Caleb': 99,\n",
    "    'Precious': 27\n",
    "\n",
    "}"
   ]
  },
  {
   "cell_type": "markdown",
   "metadata": {},
   "source": [
    "* 40 to 50 = D\n",
    "* 51 to 60 = C\n",
    "* 61 to 75 = B\n",
    "* 76 to 100 = A"
   ]
  },
  {
   "cell_type": "code",
   "execution_count": 2,
   "metadata": {},
   "outputs": [],
   "source": [
    "def gradingSystem(score):\n",
    "    if score > 100:\n",
    "        print(\"Student score can not be more than 100\")\n",
    "    else:\n",
    "        if score in range(76,101):\n",
    "            print(\"Student's grade is A\")\n",
    "\n",
    "        elif score in range(61,76):\n",
    "            print(\"Student's grade is B\")\n",
    "\n",
    "        elif score in range(51,61):\n",
    "            print(\"Student's grade is C\")\n",
    "\n",
    "        elif score in range(40,51):\n",
    "            print(\"Student's grade is D\")\n",
    "\n",
    "        else:\n",
    "            print(\"Failed!\")\n"
   ]
  },
  {
   "cell_type": "code",
   "execution_count": 8,
   "metadata": {},
   "outputs": [
    {
     "name": "stdout",
     "output_type": "stream",
     "text": [
      "Chisom\n",
      "50\n",
      "Student's grade is D\n",
      "\n",
      "\n",
      "Peter\n",
      "80\n",
      "Student's grade is A\n",
      "\n",
      "\n",
      "Angel\n",
      "25\n",
      "Failed!\n",
      "\n",
      "\n",
      "Caleb\n",
      "99\n",
      "Student's grade is A\n",
      "\n",
      "\n",
      "Precious\n",
      "27\n",
      "Failed!\n",
      "\n",
      "\n"
     ]
    }
   ],
   "source": [
    "for name, score in classlist.items():\n",
    "    print(name)\n",
    "    print(score)\n",
    "    gradingSystem(score)\n",
    "    print('\\n') "
   ]
  },
  {
   "cell_type": "code",
   "execution_count": null,
   "metadata": {},
   "outputs": [],
   "source": []
  }
 ],
 "metadata": {
  "kernelspec": {
   "display_name": "Python 3",
   "language": "python",
   "name": "python3"
  },
  "language_info": {
   "codemirror_mode": {
    "name": "ipython",
    "version": 3
   },
   "file_extension": ".py",
   "mimetype": "text/x-python",
   "name": "python",
   "nbconvert_exporter": "python",
   "pygments_lexer": "ipython3",
   "version": "3.11.5"
  },
  "orig_nbformat": 4
 },
 "nbformat": 4,
 "nbformat_minor": 2
}
