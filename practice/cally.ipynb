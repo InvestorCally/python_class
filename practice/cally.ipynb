{
 "cells": [
  {
   "cell_type": "code",
   "execution_count": 15,
   "metadata": {},
   "outputs": [],
   "source": [
    "def register():\n",
    "    account_name = input(\"Enter Account Name: \")\n",
    "    process = True\n",
    "    while process:\n",
    "        pin = int(input(\"Enter 4 digit Pin: \"))\n",
    "        if pin not in range (1000,10000):\n",
    "            print(\"Invalid Pin\")\n",
    "            print(f'Please try again!')\n",
    "        else:\n",
    "            print(\"Registration Successful!\")\n",
    "            process = False\n",
    "            return account_name, pin"
   ]
  },
  {
   "cell_type": "markdown",
   "metadata": {},
   "source": [
    "modules are saved functions in a python script.\n",
    "\n",
    "A set of function saved in a python script is called a library"
   ]
  },
  {
   "cell_type": "code",
   "execution_count": null,
   "metadata": {},
   "outputs": [],
   "source": [
    "name, pin = register()\n",
    "print(name)\n",
    "print(pin)"
   ]
  },
  {
   "cell_type": "code",
   "execution_count": 13,
   "metadata": {},
   "outputs": [
    {
     "name": "stdout",
     "output_type": "stream",
     "text": [
      "Student_name: Caleb Abhulimen, Age: 28, Gender: Male, Phone_number: 08145668129, Email_address: callytoeking12@gmail.com\n",
      "\n"
     ]
    }
   ],
   "source": [
    "student_name = input(\"Enter your Name: \")\n",
    "Age = input(\"Enter your Age: \")\n",
    "Gender = input(\"Enter your Gender: \")\n",
    "Phone_number = input(\"Enter your Phone_number: \")\n",
    "Email_address = input(\"Enter your Email_address: \")\n",
    "\n",
    "\n",
    "print(f'Student_name: {student_name}, Age: {Age}, Gender: {Gender}, Phone_number: {Phone_number}, Email_address: {Email_address}')"
   ]
  },
  {
   "cell_type": "code",
   "execution_count": 16,
   "metadata": {},
   "outputs": [],
   "source": [
    "def student_info():\n",
    "    student_name = input(\"Enter your Name: \")\n",
    "    Age = input(\"Enter your Age: \")\n",
    "    Gender = input(\"Enter your Gender: \")\n",
    "    Phone_number = input(\"Enter your Phone_number: \")\n",
    "    Email_address = input(\"Enter your Email_address: \")\n",
    "\n",
    "    # student_file = {\n",
    "    #     'name': student_name,\n",
    "    #     'age': Age,\n",
    "    #     'gender': Gender,\n",
    "    #     'Phone_number': Phone_number,\n",
    "    #     'Email_address': Email_address,\n",
    "    # }\n",
    "\n",
    "    return student_name, Age, Gender, Phone_number, Email_address"
   ]
  },
  {
   "cell_type": "code",
   "execution_count": null,
   "metadata": {},
   "outputs": [],
   "source": []
  }
 ],
 "metadata": {
  "kernelspec": {
   "display_name": "Python 3",
   "language": "python",
   "name": "python3"
  },
  "language_info": {
   "codemirror_mode": {
    "name": "ipython",
    "version": 3
   },
   "file_extension": ".py",
   "mimetype": "text/x-python",
   "name": "python",
   "nbconvert_exporter": "python",
   "pygments_lexer": "ipython3",
   "version": "3.11.5"
  },
  "orig_nbformat": 4
 },
 "nbformat": 4,
 "nbformat_minor": 2
}
