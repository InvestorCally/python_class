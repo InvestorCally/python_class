{
 "cells": [
  {
   "cell_type": "code",
   "execution_count": 1,
   "metadata": {},
   "outputs": [
    {
     "data": {
      "text/plain": [
       "16"
      ]
     },
     "execution_count": 1,
     "metadata": {},
     "output_type": "execute_result"
    }
   ],
   "source": [
    "2*8"
   ]
  },
  {
   "cell_type": "code",
   "execution_count": 6,
   "metadata": {},
   "outputs": [],
   "source": [
    "python_class = \"AWS\"\n",
    "firstname = \"Caleb\"\n",
    "lastname = \"Abhulimen\"\n",
    "third_prime_number = 5\n",
    "date = \"26th Sept 2023\""
   ]
  },
  {
   "cell_type": "code",
   "execution_count": 7,
   "metadata": {},
   "outputs": [
    {
     "name": "stdout",
     "output_type": "stream",
     "text": [
      "<class 'str'>\n",
      "<class 'str'>\n",
      "<class 'str'>\n",
      "<class 'int'>\n",
      "<class 'str'>\n"
     ]
    }
   ],
   "source": [
    "print(type(python_class))\n",
    "print(type(firstname))\n",
    "print(type(lastname))\n",
    "print(type(third_prime_number))\n",
    "print(type(date))"
   ]
  },
  {
   "cell_type": "code",
   "execution_count": 8,
   "metadata": {},
   "outputs": [],
   "source": [
    "number = 45\n",
    "serial_number = \"290578l\"\n",
    "pin = 1.02\n",
    "fact = True\n",
    "Dog = \"My dog is on the bed\"\n",
    "string = \"45\"\n"
   ]
  },
  {
   "cell_type": "code",
   "execution_count": 9,
   "metadata": {},
   "outputs": [
    {
     "name": "stdout",
     "output_type": "stream",
     "text": [
      "<class 'int'>\n",
      "<class 'str'>\n",
      "<class 'float'>\n",
      "<class 'bool'>\n",
      "<class 'str'>\n",
      "<class 'str'>\n"
     ]
    }
   ],
   "source": [
    "print(type(number))\n",
    "print(type(serial_number))\n",
    "print(type(pin))\n",
    "print(type(fact))\n",
    "print(type(Dog))\n",
    "print(type(string))\n"
   ]
  },
  {
   "cell_type": "code",
   "execution_count": 10,
   "metadata": {},
   "outputs": [],
   "source": [
    "# comment"
   ]
  },
  {
   "cell_type": "code",
   "execution_count": 11,
   "metadata": {},
   "outputs": [
    {
     "data": {
      "text/plain": [
       "'A'"
      ]
     },
     "execution_count": 11,
     "metadata": {},
     "output_type": "execute_result"
    }
   ],
   "source": [
    "chr(65)"
   ]
  },
  {
   "cell_type": "code",
   "execution_count": 12,
   "metadata": {},
   "outputs": [
    {
     "data": {
      "text/plain": [
       "2"
      ]
     },
     "execution_count": 12,
     "metadata": {},
     "output_type": "execute_result"
    }
   ],
   "source": [
    "int(2.5)"
   ]
  },
  {
   "cell_type": "code",
   "execution_count": 8,
   "metadata": {},
   "outputs": [],
   "source": [
    "# conversion of int to flow\n",
    "\n",
    "num1 = 10\n",
    "num2 = 20\n",
    "num3 = num1 + num2"
   ]
  },
  {
   "cell_type": "code",
   "execution_count": 9,
   "metadata": {},
   "outputs": [
    {
     "name": "stdout",
     "output_type": "stream",
     "text": [
      "Your answer is 30\n"
     ]
    }
   ],
   "source": [
    "print(\"Your answer is\", num3)"
   ]
  },
  {
   "cell_type": "code",
   "execution_count": 3,
   "metadata": {},
   "outputs": [
    {
     "data": {
      "text/plain": [
       "int"
      ]
     },
     "execution_count": 3,
     "metadata": {},
     "output_type": "execute_result"
    }
   ],
   "source": [
    "type(num3)"
   ]
  },
  {
   "cell_type": "code",
   "execution_count": 4,
   "metadata": {},
   "outputs": [],
   "source": [
    "num3 = float(num3)"
   ]
  },
  {
   "cell_type": "code",
   "execution_count": 10,
   "metadata": {},
   "outputs": [
    {
     "name": "stdout",
     "output_type": "stream",
     "text": [
      "[1, 2, 3, 4, 5, [6, 7, 8, 9, 10]]\n"
     ]
    }
   ],
   "source": [
    "# adding a list to a list\n",
    "\n",
    "var1 = [1,2,3,4,5]\n",
    "var2 = [6,7,8,9,10]\n",
    "\n",
    "# append method\n",
    "\n",
    "var1.append(var2)\n",
    "print(var1)\n",
    "\n",
    "# a list inside a list is called a nested list"
   ]
  },
  {
   "cell_type": "code",
   "execution_count": 13,
   "metadata": {},
   "outputs": [
    {
     "data": {
      "text/plain": [
       "10"
      ]
     },
     "execution_count": 13,
     "metadata": {},
     "output_type": "execute_result"
    }
   ],
   "source": [
    "var1[-1][-1]"
   ]
  },
  {
   "cell_type": "code",
   "execution_count": 15,
   "metadata": {},
   "outputs": [
    {
     "data": {
      "text/plain": [
       "8"
      ]
     },
     "execution_count": 15,
     "metadata": {},
     "output_type": "execute_result"
    }
   ],
   "source": [
    "var1[-1][2]"
   ]
  },
  {
   "cell_type": "code",
   "execution_count": 16,
   "metadata": {},
   "outputs": [
    {
     "name": "stdout",
     "output_type": "stream",
     "text": [
      "[1, 2, 3, 4, 5, 6, 7, 8, 9, 10]\n"
     ]
    }
   ],
   "source": [
    "# extend method\n",
    "\n",
    "var1 = [1,2,3,4,5]\n",
    "var2 = [6,7,8,9,10]\n",
    "\n",
    "var1.extend(var2)\n",
    "print(var1)"
   ]
  },
  {
   "cell_type": "code",
   "execution_count": 17,
   "metadata": {},
   "outputs": [
    {
     "name": "stdout",
     "output_type": "stream",
     "text": [
      "[1, 2, 3, 4, 5, 6, 7, 8, 9, 10]\n"
     ]
    }
   ],
   "source": [
    "# Copy a list using the copy method\n",
    "\n",
    "var3 = var1.copy()\n",
    "print(var3)"
   ]
  },
  {
   "cell_type": "code",
   "execution_count": 18,
   "metadata": {},
   "outputs": [
    {
     "name": "stdout",
     "output_type": "stream",
     "text": [
      "10\n",
      "[1, 2, 3, 4, 5, 6, 7, 8, 9]\n"
     ]
    }
   ],
   "source": [
    "# deleting an item from a list using pop method\n",
    "\n",
    "item_popped = var1.pop()\n",
    "print(item_popped)\n",
    "print(var1)"
   ]
  },
  {
   "cell_type": "code",
   "execution_count": 19,
   "metadata": {},
   "outputs": [
    {
     "name": "stdout",
     "output_type": "stream",
     "text": [
      "[1, 2, 3, 4, 5, 6, 7, 8, 9]\n",
      "[1, 2, 3, 4, 5, 7, 8, 9]\n"
     ]
    }
   ],
   "source": [
    "#  delete an item from a list using remove\n",
    "\n",
    "print(var1)\n",
    "var1.remove(6)\n",
    "\n",
    "print(var1)"
   ]
  },
  {
   "cell_type": "code",
   "execution_count": 20,
   "metadata": {},
   "outputs": [
    {
     "name": "stdout",
     "output_type": "stream",
     "text": [
      "[1, 2, 3, 5, 7, 8, 9]\n"
     ]
    }
   ],
   "source": [
    "#\n",
    "\n",
    "del var1[3]\n",
    "print(var1)"
   ]
  },
  {
   "cell_type": "code",
   "execution_count": null,
   "metadata": {},
   "outputs": [],
   "source": [
    "# how slicing work\n",
    "\n",
    "var1 = [1,2,3,5,7,8,9]\n",
    "\n",
    "# print(var1[4])\n",
    "# print(var1[4:7])\n",
    "\n",
    "print(var1[4:6])"
   ]
  },
  {
   "cell_type": "code",
   "execution_count": null,
   "metadata": {},
   "outputs": [],
   "source": [
    "#python\n",
    "\n",
    "if condition:\n",
    "    statement to run\n",
    "else:\n",
    "    another statement runs \n",
    "\n",
    "    #Bash\n",
    "\n",
    "if condition: then statement else another statement fi \n",
    "\n"
   ]
  },
  {
   "cell_type": "code",
   "execution_count": 4,
   "metadata": {},
   "outputs": [],
   "source": [
    "enter_name = \"Caleb\""
   ]
  },
  {
   "cell_type": "code",
   "execution_count": 5,
   "metadata": {},
   "outputs": [
    {
     "name": "stdout",
     "output_type": "stream",
     "text": [
      "Proceed\n"
     ]
    }
   ],
   "source": [
    "if enter_name = \"Caleb\":\n",
    "    print(\"Proceed\")\n",
    "else:\n",
    "    print(\"Try again\")"
   ]
  },
  {
   "cell_type": "code",
   "execution_count": 7,
   "metadata": {},
   "outputs": [
    {
     "ename": "SyntaxError",
     "evalue": "invalid syntax (2654529973.py, line 2)",
     "output_type": "error",
     "traceback": [
      "\u001b[1;36m  Cell \u001b[1;32mIn[7], line 2\u001b[1;36m\u001b[0m\n\u001b[1;33m    refuses to marry Diamond\u001b[0m\n\u001b[1;37m            ^\u001b[0m\n\u001b[1;31mSyntaxError\u001b[0m\u001b[1;31m:\u001b[0m invalid syntax\n"
     ]
    }
   ],
   "source": [
    "if Ben:\n",
    "    refuses to marry Diamond\n",
    "else:\n",
    "    we will beat him"
   ]
  },
  {
   "cell_type": "code",
   "execution_count": null,
   "metadata": {},
   "outputs": [],
   "source": [
    "if condition:\n",
    "    statement to run\n",
    "elif condition:\n",
    "    another statement to run\n",
    "elif condition:\n",
    "    another statement to run\n",
    "else:\n",
    "    last statement to run"
   ]
  },
  {
   "cell_type": "code",
   "execution_count": 8,
   "metadata": {},
   "outputs": [],
   "source": [
    "bag = [\"laptop\",'charger','notebook','biro','extension','phone','keys']\n",
    "\n"
   ]
  },
  {
   "cell_type": "code",
   "execution_count": null,
   "metadata": {},
   "outputs": [],
   "source": [
    "# For loop\n",
    "# always define your variable via assignment\n",
    "# For variable in collection, where our variable is item and collection is bag\n",
    "# .pop removes the last item\n",
    "\n",
    "\n",
    "for item in bag:\n",
    "    print(item)"
   ]
  },
  {
   "cell_type": "code",
   "execution_count": 9,
   "metadata": {},
   "outputs": [],
   "source": [
    "bag.append('bottle')"
   ]
  },
  {
   "cell_type": "code",
   "execution_count": 10,
   "metadata": {},
   "outputs": [
    {
     "name": "stdout",
     "output_type": "stream",
     "text": [
      "['laptop', 'charger', 'notebook', 'biro', 'extension', 'phone', 'keys', 'bottle']\n"
     ]
    }
   ],
   "source": [
    "print(bag)"
   ]
  },
  {
   "cell_type": "code",
   "execution_count": 1,
   "metadata": {},
   "outputs": [],
   "source": [
    "bag = ['spoon','wig','mirrior']"
   ]
  },
  {
   "cell_type": "code",
   "execution_count": 2,
   "metadata": {},
   "outputs": [],
   "source": [
    "bag.append('diaper')"
   ]
  },
  {
   "cell_type": "code",
   "execution_count": 3,
   "metadata": {},
   "outputs": [
    {
     "name": "stdout",
     "output_type": "stream",
     "text": [
      "['spoon', 'wig', 'mirrior', 'diaper']\n"
     ]
    }
   ],
   "source": [
    "print(bag)"
   ]
  },
  {
   "cell_type": "code",
   "execution_count": 4,
   "metadata": {},
   "outputs": [],
   "source": [
    "extra_bag = bag.copy()"
   ]
  },
  {
   "cell_type": "code",
   "execution_count": 5,
   "metadata": {},
   "outputs": [
    {
     "data": {
      "text/plain": [
       "True"
      ]
     },
     "execution_count": 5,
     "metadata": {},
     "output_type": "execute_result"
    }
   ],
   "source": [
    "extra_bag == bag"
   ]
  },
  {
   "cell_type": "code",
   "execution_count": 6,
   "metadata": {},
   "outputs": [
    {
     "data": {
      "text/plain": [
       "1"
      ]
     },
     "execution_count": 6,
     "metadata": {},
     "output_type": "execute_result"
    }
   ],
   "source": [
    "extra_bag.count('wig')"
   ]
  },
  {
   "cell_type": "code",
   "execution_count": 16,
   "metadata": {},
   "outputs": [],
   "source": [
    "extra_bag.insert(0,\"wig\")\n",
    "extra_bag.insert(2,\"wig\")\n",
    "extra_bag.insert(4,\"wig\")"
   ]
  },
  {
   "cell_type": "code",
   "execution_count": 17,
   "metadata": {},
   "outputs": [
    {
     "data": {
      "text/plain": [
       "4"
      ]
     },
     "execution_count": 17,
     "metadata": {},
     "output_type": "execute_result"
    }
   ],
   "source": [
    "extra_bag.count('wig')"
   ]
  },
  {
   "cell_type": "code",
   "execution_count": 19,
   "metadata": {},
   "outputs": [
    {
     "name": "stdout",
     "output_type": "stream",
     "text": [
      "['wig', 'spoon', 'wig', 'wig', 'wig', 'mirrior', 'diaper']\n"
     ]
    }
   ],
   "source": [
    "print(extra_bag)"
   ]
  },
  {
   "cell_type": "code",
   "execution_count": null,
   "metadata": {},
   "outputs": [],
   "source": [
    "# anything following def is a function\n",
    "\n",
    "name = \"Etiosa\"\n",
    "\n",
    "########################\n",
    "def change_name(loc_name):\n",
    "    \n",
    "    print(loc_name)\n",
    "########################  block of code (dont mistake a container with a collection)"
   ]
  },
  {
   "cell_type": "code",
   "execution_count": 22,
   "metadata": {},
   "outputs": [
    {
     "name": "stdout",
     "output_type": "stream",
     "text": [
      "Osas\n"
     ]
    }
   ],
   "source": [
    "change_name('Osas')"
   ]
  },
  {
   "cell_type": "code",
   "execution_count": null,
   "metadata": {},
   "outputs": [],
   "source": [
    "# what follows a For statement is a variable\n",
    "# what follows a If statement is a condition"
   ]
  },
  {
   "cell_type": "code",
   "execution_count": 23,
   "metadata": {},
   "outputs": [],
   "source": [
    "a = 2\n",
    "b = 6\n",
    "\n",
    "if a > 10:\n",
    "    name = 'Grace'\n",
    "    print('yes')\n",
    "\n",
    "    "
   ]
  },
  {
   "cell_type": "code",
   "execution_count": 5,
   "metadata": {},
   "outputs": [
    {
     "name": "stdout",
     "output_type": "stream",
     "text": [
      "0\n",
      "1\n",
      "2\n",
      "3\n",
      "4\n",
      "5\n",
      "6\n",
      "7\n",
      "8\n",
      "9\n"
     ]
    }
   ],
   "source": [
    "# range is function that generate sequence of numbers. It can generate numbers but does not save them\n",
    "\n",
    "for number in range(0,10):\n",
    "    print(number)"
   ]
  },
  {
   "cell_type": "markdown",
   "metadata": {},
   "source": [
    "* 40 to 50 = D\n",
    "* 51 to 60 = C\n",
    "* 61 to 75 = B\n",
    "* 76 to 100 = A"
   ]
  },
  {
   "cell_type": "code",
   "execution_count": 6,
   "metadata": {},
   "outputs": [
    {
     "name": "stdout",
     "output_type": "stream",
     "text": [
      "70\n"
     ]
    }
   ],
   "source": [
    "score = int(input(\"Enter student score: \"))\n",
    "print(score + 30)"
   ]
  },
  {
   "cell_type": "code",
   "execution_count": 12,
   "metadata": {},
   "outputs": [
    {
     "name": "stdout",
     "output_type": "stream",
     "text": [
      "Failed!\n"
     ]
    }
   ],
   "source": [
    "# 'and' it is true when both of the expressions are true otherwise it is false\n",
    "# 'not' to negate back\n",
    "\n",
    "\n",
    "\n",
    "score = int(input(\"Enter student score: \"))\n",
    "\n",
    "if score > 100:\n",
    "    print(\"Student score can not be more than 100\")\n",
    "else:\n",
    "    if score >= 40 and score <= 50:\n",
    "        print(\"Student's grade is D\")\n",
    "\n",
    "    elif score >= 51 and score <= 60:\n",
    "        print(\"Student's grade is C\")\n",
    "\n",
    "    elif score >= 61 and score <= 75:\n",
    "        print(\"Student's grade is B\")\n",
    "\n",
    "    elif score >= 76 and score <= 100:\n",
    "        print(\"Student's grade is A\")\n",
    "\n",
    "    else:\n",
    "        print(\"Failed!\")"
   ]
  },
  {
   "cell_type": "code",
   "execution_count": 10,
   "metadata": {},
   "outputs": [
    {
     "name": "stdout",
     "output_type": "stream",
     "text": [
      "num1 is the highest number\n"
     ]
    }
   ],
   "source": [
    "num1 = 10\n",
    "num2 = 20\n",
    "num3 = 30\n",
    "\n",
    "if num1 > num2  or num1 < num3:\n",
    "    print(\"num1 is the highest number\")"
   ]
  },
  {
   "cell_type": "markdown",
   "metadata": {},
   "source": [
    "#Read about switch cases in python"
   ]
  },
  {
   "cell_type": "code",
   "execution_count": 13,
   "metadata": {},
   "outputs": [
    {
     "name": "stdout",
     "output_type": "stream",
     "text": [
      "Student's grade is B\n"
     ]
    }
   ],
   "source": [
    "score = int(input(\"Enter student score: \"))\n",
    "\n",
    "if score > 100:\n",
    "    print(\"Student score can not be more than 100\")\n",
    "else:\n",
    "    if score in range(76,101):\n",
    "        print(\"Student's grade is A\")\n",
    "\n",
    "    elif score in range(61,76):\n",
    "        print(\"Student's grade is B\")\n",
    "\n",
    "    elif score in range(51,61):\n",
    "        print(\"Student's grade is C\")\n",
    "\n",
    "    elif score in range(40,51):\n",
    "        print(\"Student's grade is D\")\n",
    "\n",
    "    else:\n",
    "        print(\"Failed!\")"
   ]
  },
  {
   "cell_type": "markdown",
   "metadata": {},
   "source": [
    "# function allows you to use a set of codes when you need them\n",
    "# any variable you declare when def a function is called parameter\n",
    "# when calling the function, you put the variable inside is called an argument"
   ]
  },
  {
   "cell_type": "markdown",
   "metadata": {},
   "source": [
    "Function"
   ]
  },
  {
   "cell_type": "code",
   "execution_count": 15,
   "metadata": {},
   "outputs": [],
   "source": [
    "def gradingSystem(score):\n",
    "    if score > 100:\n",
    "        print(\"Student score can not be more than 100\")\n",
    "    else:\n",
    "        if score >= 40 and score <= 50:\n",
    "            print(\"Student's grade is D\")\n",
    "\n",
    "        elif score >= 51 and score <= 60:\n",
    "            print(\"Student's grade is C\")\n",
    "\n",
    "        elif score >= 61 and score <= 75:\n",
    "            print(\"Student's grade is B\")\n",
    "\n",
    "        elif score >= 76 and score <= 100:\n",
    "            print(\"Student's grade is A\")\n",
    "\n",
    "        else:\n",
    "            print(\"Failed!\")"
   ]
  },
  {
   "cell_type": "code",
   "execution_count": 17,
   "metadata": {},
   "outputs": [
    {
     "name": "stdout",
     "output_type": "stream",
     "text": [
      "Student's grade is A\n"
     ]
    }
   ],
   "source": [
    "score = int(input(\"Enter student score: \"))\n",
    "gradingSystem(score)"
   ]
  },
  {
   "cell_type": "code",
   "execution_count": null,
   "metadata": {},
   "outputs": [],
   "source": []
  }
 ],
 "metadata": {
  "kernelspec": {
   "display_name": "Python 3",
   "language": "python",
   "name": "python3"
  },
  "language_info": {
   "codemirror_mode": {
    "name": "ipython",
    "version": 3
   },
   "file_extension": ".py",
   "mimetype": "text/x-python",
   "name": "python",
   "nbconvert_exporter": "python",
   "pygments_lexer": "ipython3",
   "version": "3.11.5"
  },
  "orig_nbformat": 4
 },
 "nbformat": 4,
 "nbformat_minor": 2
}
